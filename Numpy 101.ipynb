{
 "cells": [
  {
   "cell_type": "markdown",
   "id": "12c00067",
   "metadata": {},
   "source": [
    "# Numpy Giriş\n",
    "\n",
    "##İçerik:\n",
    "#1."
   ]
  },
  {
   "cell_type": "markdown",
   "id": "d586bd75",
   "metadata": {},
   "source": [
    "## 1.Numpy Array Oluşturma ve Temel Fonksiyonları"
   ]
  },
  {
   "cell_type": "markdown",
   "id": "d806a8fc",
   "metadata": {},
   "source": [
    "### Neden Numpy Arrayler daha hızlıdır?\n",
    "\n",
    "NumPy dizileri, C dilinde optimize edilmiş altta yatan kütüphaneler tarafından desteklendiği için daha hızlıdır. \n",
    "Bu kütüphaneler, veri belleği üzerinde daha etkin bir şekilde yönetim sağlar ve doğrudan belleğe erişim sağlarlar, \n",
    "böylece veri işleme operasyonlarının daha hızlı gerçekleşmesini sağlarlar. Ayrıca, NumPynin vektörleştirilmiş \n",
    "operasyonları, Pythondaki döngülerden kaçınarak verimliliği artırır ve işlemleri paralel olarak gerçekleştirebilir,\n",
    "bu da genellikle daha yüksek performansla sonuçlanır. \n",
    "\n",
    "### Veri Tahsisi Numpy:\n",
    "    \n",
    "Data Buffer: NumPydeki veri tamponu, dizinin boyutundan bağımsız olarak, gerçek elemanları depolayan tek bir, düz\n",
    "    bloktur. Bu, etkin öğe bazlı işlemler ve veri erişimini mümkün kılar.\n",
    "\n",
    "Shape: Bir dizinin şekli, her eksen boyunca boyutları temsil eden tam sayıların bir demetidir. Her tam sayı, \n",
    "    belirli bir boyutta dizinin boyutunu temsil eder. Bu boyutlar, diziyi doğru bir şekilde indekslemek ve yeniden \n",
    "    şekillendirmek için gereklidir.\n",
    "\n",
    "Strides: Adımlar, bir sonraki öğeye geçerken her boyutta kaç bayt adım atılacağını belirleyen tam sayıların \n",
    "    demetleridir. Adımlar, bellekteki öğeler arasındaki boşluğu belirler ve her boyutta bir öğeden diğerine geçmek\n",
    "    için kaç baytın gerektiğini ölçer.\n"
   ]
  },
  {
   "cell_type": "code",
   "execution_count": 1,
   "id": "e2e1c0d4",
   "metadata": {},
   "outputs": [
    {
     "name": "stdout",
     "output_type": "stream",
     "text": [
      "Liste = [1, 2, 3, 4] listenin tipi = <class 'list'>\n",
      "Numpy array = [1 2 3 4] Numpyın tipi = <class 'numpy.ndarray'>\n"
     ]
    }
   ],
   "source": [
    "# Burada bir numpy array oluşturmayı ve bu array'ın temel fonksiyonlarını göreceğiz\n",
    "\n",
    "import numpy as np #Kütüphanemizi import ettik\n",
    "\n",
    "#Bir listeyi numpy dizisi haline getirelim:\n",
    "\n",
    "liste = [1, 2, 3, 4] \n",
    "numpyListArr = np.array(liste) #array() fonksiyonu ile dizi haline getirebiliriz\n",
    "\n",
    "print(\"Liste =\", liste, \"listenin tipi =\", type(liste)) \n",
    "print(\"Numpy array =\", numpyListArr, \"Numpyın tipi =\", type(numpyListArr))"
   ]
  },
  {
   "cell_type": "code",
   "execution_count": 2,
   "id": "df448b7e",
   "metadata": {},
   "outputs": [
    {
     "name": "stdout",
     "output_type": "stream",
     "text": [
      "Numpy array = [[ 1  2  3  4]\n",
      " [ 5  6  7  8]\n",
      " [ 9 10 11 12]] Numpyın tipi = <class 'numpy.ndarray'>\n"
     ]
    }
   ],
   "source": [
    "#Birden fazla listeyi numpy array'i haline getirmek\n",
    "\n",
    "list_1 = [1, 2, 3, 4]\n",
    "list_2 = [5, 6, 7, 8]\n",
    "list_3 = [9, 10, 11, 12]\n",
    " \n",
    "\n",
    "more_array = np.array([list_1,\n",
    "                       list_2,\n",
    "                       list_3])\n",
    " \n",
    "print(\"Numpy array =\", more_array, \"Numpyın tipi =\", type(more_array))"
   ]
  },
  {
   "cell_type": "code",
   "execution_count": 3,
   "id": "983bc7ee",
   "metadata": {},
   "outputs": [
    {
     "name": "stdout",
     "output_type": "stream",
     "text": [
      "Numpy array = ['H' 'a' 'l' 'e' 'k' 'm' 'c'] Numpyın tipi = <class 'numpy.ndarray'>\n"
     ]
    }
   ],
   "source": [
    "#Bir kelimeyi harflerine ayırarak numpy array'e atalım\n",
    "\n",
    "var = \"Halekmc\"\n",
    " \n",
    "kelime_array = np.fromiter(var, dtype = 'U2')\n",
    " \n",
    "print(\"Numpy array =\", kelime_array, \"Numpyın tipi =\", type(kelime_array))"
   ]
  },
  {
   "cell_type": "code",
   "execution_count": 4,
   "id": "608b3f6e",
   "metadata": {},
   "outputs": [
    {
     "name": "stdout",
     "output_type": "stream",
     "text": [
      "<class 'numpy.ndarray'>\n",
      "2\n",
      "(2, 3)\n",
      "6\n",
      "int64\n"
     ]
    }
   ],
   "source": [
    "# Liste olmadan direk numpy aray oluşturalım\n",
    "\n",
    "numpy_array = np.array( [[ 1, 2, 3], \n",
    "                        [ 4, 2, 5]] ) \n",
    "\n",
    "# Array'ın tipi type()\n",
    "print(type(numpy_array)) \n",
    "\n",
    "# Kosegen sayısı  .ndim\n",
    "print(numpy_array.ndim) \n",
    "\n",
    "# Array'ın boyutları 2x3 gibi .shape\n",
    "print(numpy_array.shape) \n",
    "\n",
    "# Toplam Eleman Sayısı .size\n",
    "print(numpy_array.size) \n",
    "\n",
    "# Elementlerin tipi int, float vb. / .dtype\n",
    "print(numpy_array.dtype) "
   ]
  },
  {
   "cell_type": "code",
   "execution_count": 5,
   "id": "b26de72d",
   "metadata": {},
   "outputs": [
    {
     "name": "stdout",
     "output_type": "stream",
     "text": [
      "[[0.00000000e+000 0.00000000e+000 0.00000000e+000 0.00000000e+000]\n",
      " [0.00000000e+000 5.64233733e-067 5.33359692e-091 4.00769595e+174]\n",
      " [8.31525886e-072 4.04457680e-057 3.99910963e+252 1.46030983e-319]]\n",
      "[[5 5 5 5]\n",
      " [5 5 5 5]\n",
      " [5 5 5 5]]\n"
     ]
    }
   ],
   "source": [
    "#3x4 boyutlarında içi boş bir array oluşturmak .empty\n",
    "empty_array = np.empty((3, 4))\n",
    "print(empty_array)\n",
    "\n",
    "\n",
    "#3x4 boyutlarında içi 5 dolu bir array oluşturmak .full\n",
    "full_array = np.full((3, 4), 5)\n",
    "print(full_array)\n",
    "\n"
   ]
  },
  {
   "cell_type": "code",
   "execution_count": 6,
   "id": "2c654c03",
   "metadata": {},
   "outputs": [
    {
     "name": "stdout",
     "output_type": "stream",
     "text": [
      "Float Array: [[1. 2. 4.]\n",
      " [5. 8. 7.]]\n",
      "\n",
      "Tupple Array: [1 3 2]\n"
     ]
    }
   ],
   "source": [
    "# Float cinsinden bir array oluşturma\n",
    "float_array = np.array([[1, 2, 4], [5, 8, 7]], dtype = 'float') \n",
    "print (\"Float Array:\" , float_array) \n",
    "  \n",
    "# Tuple Cinsinde bir array oluşturma\n",
    "tuple_array = np.array((1 , 3, 2)) \n",
    "print (\"\\nTupple Array:\", tuple_array)"
   ]
  },
  {
   "cell_type": "code",
   "execution_count": 7,
   "id": "82de5467",
   "metadata": {},
   "outputs": [
    {
     "name": "stdout",
     "output_type": "stream",
     "text": [
      "Zeros Array: \n",
      " [[0. 0. 0. 0.]\n",
      " [0. 0. 0. 0.]\n",
      " [0. 0. 0. 0.]]\n",
      "Ones Array: \n",
      " [[1. 1. 1. 1.]\n",
      " [1. 1. 1. 1.]\n",
      " [1. 1. 1. 1.]]\n",
      "Komplex Full Array\n",
      " [[6.+0.j 6.+0.j 6.+0.j]\n",
      " [6.+0.j 6.+0.j 6.+0.j]\n",
      " [6.+0.j 6.+0.j 6.+0.j]]\n",
      "Random Array:\n",
      " [[0.96607319 0.4071488 ]\n",
      " [0.51095071 0.94033725]]\n"
     ]
    }
   ],
   "source": [
    "#Veri bilimi alanında sıklıkla başlangıçta bir dizi oluştururken veya bellek tahsisi yaparken kullanılır.\n",
    "\n",
    "# İçi tamamen 0 olan 3x4 bir matris oluşturalım\n",
    "zeros_array = np.zeros((3, 4)) \n",
    "print (\"Zeros Array: \\n\", zeros_array) \n",
    "\n",
    "# İçi tamamen 1 olan 3x4 bir matris oluşturalım\n",
    "ones_array = np.ones((3, 4)) \n",
    "print (\"Ones Array: \\n\", ones_array) \n",
    "\n",
    "#Matematiksel hesaplamalarda kullanılır gerçek ve sanal kısımdan oluşur örn: 3+2j\n",
    "# Komplex degerlerden olusan 3x3 bir matris olusturalim\n",
    "full_array = np.full((3, 3), 6, dtype = 'complex') \n",
    "print (\"Komplex Full Array\\n\", full_array) \n",
    "\n",
    "# 2x2 Random Degerlerden olusan bir matrix oluşturalım \n",
    "random_array = np.random.random((2, 2)) \n",
    "print (\"Random Array:\\n\", random_array)\n"
   ]
  },
  {
   "cell_type": "code",
   "execution_count": 8,
   "id": "1aab5062",
   "metadata": {},
   "outputs": [
    {
     "name": "stdout",
     "output_type": "stream",
     "text": [
      "40 dahil olmayan dizi:\n",
      " [ 0  5 10 15 20 25 30 35]\n",
      "40 dahil olan dizi:\n",
      " [ 0  5 10 15 20 25 30 35 40]\n"
     ]
    }
   ],
   "source": [
    "# 0 ile 40 arasında 5'er 5'er artan bir dizi, 40 dahil edilmez. Edilmesi istenirse +1 fazlası yazılır\n",
    "\n",
    "f = np.arange(0, 40, 5) \n",
    "print (\"40 dahil olmayan dizi:\\n\", f)\n",
    "\n",
    "g = np.arange(0, 41, 5) \n",
    "print (\"40 dahil olan dizi:\\n\", g)\n"
   ]
  },
  {
   "cell_type": "code",
   "execution_count": 9,
   "id": "ea9e4d7f",
   "metadata": {},
   "outputs": [
    {
     "name": "stdout",
     "output_type": "stream",
     "text": [
      "[0.         0.55555556 1.11111111 1.66666667 2.22222222 2.77777778\n",
      " 3.33333333 3.88888889 4.44444444 5.        ]\n"
     ]
    }
   ],
   "source": [
    "# Belirli bir aralığı eşit aralıklar ile döndürür. Örn: 5 sayısını 10 eşit parcaya bolup dizi olusturmak gibi, \n",
    "# artış miktarları sabittir. Float cinsinden sayı gelebilir\n",
    "\n",
    "linspace_array = np.linspace(0, 5, 10) \n",
    "print (linspace_array)\n"
   ]
  },
  {
   "cell_type": "code",
   "execution_count": 10,
   "id": "38944210",
   "metadata": {},
   "outputs": [
    {
     "name": "stdout",
     "output_type": "stream",
     "text": [
      "Orijinal:\n",
      " [[1 2 3 4]\n",
      " [5 2 4 2]\n",
      " [1 2 0 1]]\n",
      "Donusturulmus:\n",
      " [[[1 2 3]\n",
      "  [4 5 2]]\n",
      "\n",
      " [[4 2 1]\n",
      "  [2 0 1]]]\n"
     ]
    }
   ],
   "source": [
    "# 3x4 boyutlarındaki bir matrisi 2x2x3 boyutlarına döndürme. Bunun icin reshape fonksiyonu kullanılır. Burada onemli\n",
    "# olan notka donusturulen array'ın boyutlarının tutması. Örn:3x4 = 12, 2x2x3 = 12 gibi\n",
    "\n",
    "original_array = np.array([[1, 2, 3, 4], \n",
    "                [5, 2, 4, 2], \n",
    "                [1, 2, 0, 1]]) \n",
    "\n",
    "reshape_array = original_array.reshape(2, 2, 3) \n",
    "\n",
    "print (\"Orijinal:\\n\", original_array) \n",
    "\n",
    "print (\"Donusturulmus:\\n\", reshape_array)\n"
   ]
  },
  {
   "cell_type": "code",
   "execution_count": 11,
   "id": "29e21c17",
   "metadata": {},
   "outputs": [
    {
     "name": "stdout",
     "output_type": "stream",
     "text": [
      "[[[0 4]\n",
      "  [2 6]]\n",
      "\n",
      " [[1 5]\n",
      "  [3 7]]]\n"
     ]
    }
   ],
   "source": [
    "#swapaxes fonksiyonu, belirtilen iki eksen arasında yer alan değerleri değiştirir. \n",
    "\n",
    "#Örneğin, swapaxes(arr, 0, 2) ifadesi, birinci eksenle üçüncü eksen arasındaki değerleri değiştirir.\n",
    "\n",
    "original_array1 = np.array([[[0, 1], [2, 3]], [[4, 5], [6, 7]]]) \n",
    "  \n",
    "swapaxes_array = np.swapaxes(original_array1, 0, 2) \n",
    "  \n",
    "print (swapaxes_array) "
   ]
  },
  {
   "cell_type": "code",
   "execution_count": 12,
   "id": "d8604f85",
   "metadata": {},
   "outputs": [
    {
     "name": "stdout",
     "output_type": "stream",
     "text": [
      "Orijinal array:\n",
      " [[1 2 3]\n",
      " [4 5 6]]\n",
      "Flatten array:\n",
      " [1 2 3 4 5 6]\n"
     ]
    }
   ],
   "source": [
    "# Flatten array: Elimizde bulunan bir array'ı tek bir satır haline dönüştürmek. Örn: 2x3 olan matrisimiz flatten\n",
    "# metodu ile 1x6 olacak\n",
    "\n",
    "original_array2 = np.array([[1, 2, 3], [4, 5, 6]]) \n",
    "flat_array = original_array2.flatten() \n",
    "\n",
    "print (\"Orijinal array:\\n\", original_array2) \n",
    "print (\"Flatten array:\\n\", flat_array)\n"
   ]
  },
  {
   "cell_type": "markdown",
   "id": "08f208b8",
   "metadata": {},
   "source": [
    "##Index in Arrays"
   ]
  },
  {
   "cell_type": "code",
   "execution_count": 13,
   "id": "f12a6543",
   "metadata": {},
   "outputs": [
    {
     "name": "stdout",
     "output_type": "stream",
     "text": [
      "[[-1.  0.]\n",
      " [ 4.  6.]]\n"
     ]
    }
   ],
   "source": [
    "#arr[:2, ::2] ifadesiyle ilk iki satır ve sütunların her ikincisi seçilir. ilk iki satırı ve sütunlarından \n",
    "#sıfırıncı ve ikinci sütunları alır.\n",
    "\n",
    "original_array3 = np.array([[-1, 2, 0, 4], \n",
    "                [4, -0.5, 6, 0], \n",
    "                [2.6, 0, 7, 8], \n",
    "                [3, -7, 4, 2.0]]) \n",
    "  \n",
    "# Slicing array \n",
    "slicing_array = original_array3[:2, ::2] \n",
    "print (slicing_array) \n",
    "  "
   ]
  },
  {
   "cell_type": "code",
   "execution_count": 14,
   "id": "cf43cb46",
   "metadata": {},
   "outputs": [
    {
     "name": "stdout",
     "output_type": "stream",
     "text": [
      "Her değere 1 eklemek: [2 3 6 4]\n",
      "Her değerden 3 çıkarmak: [-2 -1  2  0]\n",
      "Her değerin karesini almak: [ 1  4 25  9]\n",
      "Her değerin iki katını almak [ 2  4 10  6]\n"
     ]
    }
   ],
   "source": [
    "#Numpy arrayler ile 4 işlem\n",
    "\n",
    "original_array3 = np.array([1, 2, 5, 3]) \n",
    "  \n",
    "# Her değere 1 eklemek \n",
    "print (\"Her değere 1 eklemek:\", original_array3+1) \n",
    "  \n",
    "# Her değerden 3 çıkarmak\n",
    "print (\"Her değerden 3 çıkarmak:\", original_array3-3)  \n",
    "  \n",
    "# Her değerin karesini alma:\n",
    "print (\"Her değerin karesini almak:\", original_array3**2) \n",
    "  \n",
    "# Her değerin iki katını almak\n",
    "original_array3 *= 2\n",
    "print (\"Her değerin iki katını almak\", original_array3) \n",
    "  \n"
   ]
  },
  {
   "cell_type": "code",
   "execution_count": 15,
   "id": "2c44c632",
   "metadata": {},
   "outputs": [
    {
     "name": "stdout",
     "output_type": "stream",
     "text": [
      "\\Orijinal array:\n",
      " [[1 2 3]\n",
      " [3 4 5]\n",
      " [9 6 0]]\n",
      "Transpoz array:\n",
      " [[1 3 9]\n",
      " [2 4 6]\n",
      " [3 5 0]]\n"
     ]
    }
   ],
   "source": [
    "# dizinin transpoz edilmesi\n",
    "original_array4 = np.array([[1, 2, 3], [3, 4, 5], [9, 6, 0]]) \n",
    "  \n",
    "print (\"\\Orijinal array:\\n\", original_array4) \n",
    "print (\"Transpoz array:\\n\", original_array4.T) "
   ]
  },
  {
   "cell_type": "code",
   "execution_count": 16,
   "id": "6f0563c7",
   "metadata": {},
   "outputs": [
    {
     "name": "stdout",
     "output_type": "stream",
     "text": [
      "En Büyük Eleman: 9\n",
      "En Büyük Elemanlar: [6 7 9]\n",
      "En Küçük Elemanlar [1 1 2]\n",
      "Dizideki rakamların toplamı: 38\n",
      "Her satırın kümülatif toplamı:\n",
      " [[ 1  6 12]\n",
      " [ 4 11 13]\n",
      " [ 3  4 13]]\n"
     ]
    }
   ],
   "source": [
    "#Numpy arraylar ile dizideki maks min ilişkileri\n",
    "\n",
    "original_array5 = np.array([[1, 5, 6], \n",
    "                            [4, 7, 2], \n",
    "                            [3, 1, 9]]) \n",
    "\n",
    "# Dizideki en büyük elemanı bulmak\n",
    "print (\"En Büyük Eleman:\", original_array5.max()) \n",
    "\n",
    "#Dizideki en büyük elemanları bulup dizi oluşturmak\n",
    "print (\"En Büyük Elemanlar:\", original_array5.max(axis = 1)) \n",
    "\n",
    "# Dizideki en küçük elemanları bulup dizi oluşturmak\n",
    "print (\"En Küçük Elemanlar\", original_array5.min(axis = 0)) \n",
    "\n",
    "# Dizideki rakamların toplamı\n",
    "print (\"Dizideki rakamların toplamı:\", original_array5.sum()) \n",
    "\n",
    "# Her satırın kümülatif toplamı\n",
    "\n",
    "#Örn: 1, 1+5=6, 1+5+6 = 12 gibi\n",
    "print (\"Her satırın kümülatif toplamı:\\n\", original_array5.cumsum(axis = 1)) \n"
   ]
  },
  {
   "cell_type": "code",
   "execution_count": 17,
   "id": "35077300",
   "metadata": {},
   "outputs": [
    {
     "name": "stdout",
     "output_type": "stream",
     "text": [
      "Toplam:\n",
      " [[5 5]\n",
      " [5 5]]\n",
      "Çarpım:\n",
      " [[4 6]\n",
      " [6 4]]\n",
      "Matrix çarpımı:\n",
      " [[ 8  5]\n",
      " [20 13]]\n"
     ]
    }
   ],
   "source": [
    "#Arrayların Kendi içinde Toplanıp Çıkarılması\n",
    "\n",
    "\n",
    "a = np.array([[1, 2], \n",
    "            [3, 4]]) \n",
    "b = np.array([[4, 3], \n",
    "            [2, 1]]) \n",
    "\n",
    "# Toplama\n",
    "print (\"Toplam:\\n\", a + b) \n",
    "\n",
    "# Çarpma\n",
    "print (\"Çarpım:\\n\", a*b) \n",
    "\n",
    "##Dot ile Çarpmanın farkı nedir?\n",
    "#Çarpma da birimler kendi arasında çarpılır örneğin 1.matrisin 1.1 değeri ile 2.matrisin 1.1 değeri çarpılır. Dot\n",
    "#ile çarpmada içe matrisler matris çarpımında çarpılır (formüle bakabilirsiniz)\n",
    "\n",
    "\n",
    "# Matrislerin çarpımı\n",
    "print (\"Matrix çarpımı:\\n\", a.dot(b)) \n"
   ]
  },
  {
   "cell_type": "code",
   "execution_count": 18,
   "id": "fd698554",
   "metadata": {},
   "outputs": [
    {
     "name": "stdout",
     "output_type": "stream",
     "text": [
      "Sinus Array: [ 0.00000000e+00  6.42787610e-01  9.84807753e-01  8.66025404e-01\n",
      "  3.42020143e-01 -3.42020143e-01 -8.66025404e-01 -9.84807753e-01\n",
      " -6.42787610e-01 -2.44929360e-16]\n",
      "Exponent Array/ [ 1.          2.71828183  7.3890561  20.08553692]\n",
      "Sqrt Array: [0.         1.         1.41421356 1.73205081]\n"
     ]
    }
   ],
   "source": [
    "#Numpy ile matematiksel fonksiyonlar\n",
    "\n",
    "# Dizideki her elemanın sinisunu hesaplar\n",
    "\n",
    "sinus_array = np.linspace(0, 2*np.pi, 10)\n",
    "# Bu noktalara karşılık gelen sinus değerlerini hesapla\n",
    "print(\"Sinus Array:\",np.sin(sinus_array)) \n",
    "\n",
    "# her bir elemanın üssünü e^x olarak hesaplar \n",
    "exp_array = np.array([0, 1, 2, 3]) \n",
    "print (\"Exponent Array/\", np.exp(exp_array)) \n",
    "\n",
    "# her bir elemanın karakök alır \n",
    "print (\"Sqrt Array:\", np.sqrt(exp_array)) \n"
   ]
  },
  {
   "cell_type": "code",
   "execution_count": 19,
   "id": "af770fe7",
   "metadata": {},
   "outputs": [
    {
     "name": "stdout",
     "output_type": "stream",
     "text": [
      "Sorted Array:\n",
      " [-1  0  1  2  3  4  4  5  6]\n",
      "Satır Sorted Array:\n",
      " [[ 1  2  4]\n",
      " [ 3  4  6]\n",
      " [-1  0  5]]\n",
      "Sütün Sorted Array:\n",
      " [[ 0 -1  2]\n",
      " [ 1  4  5]\n",
      " [ 3  4  6]]\n",
      "Merge Sort\n",
      " [[ 0 -1  2]\n",
      " [ 1  4  5]\n",
      " [ 3  4  6]]\n"
     ]
    }
   ],
   "source": [
    "#Filtreleme fonksiyonları\n",
    "\n",
    "filter_array= np.array([[1, 4, 2], \n",
    "                        [3, 4, 6], \n",
    "                        [0, -1, 5]]) \n",
    "\n",
    "# Elemanları küçükten büyüğe sıralar\n",
    "print (\"Sorted Array:\\n\", np.sort(filter_array, axis = None)) \n",
    "\n",
    "# Her satır kendi içinde (axis=1) sıralanır, axis degeri 0 olsaydı her sutun kendi icinde sıralanırdı\n",
    "print (\"Satır Sorted Array:\\n\", np.sort(filter_array, axis = 1)) \n",
    "\n",
    "# Her sütün kendi içinde (axis=1) sıralanır, axis degeri 0 olsaydı her sutun kendi icinde sıralanırdı\n",
    "print (\"Sütün Sorted Array:\\n\", np.sort(filter_array, axis = 0) )\n",
    "\n",
    "# Spesifik bir parametreye göre sıralama yapılabilir. Üsttekiler ile aynı şekilde çalışır (axis değeri), tek fark\n",
    "#burada yazdığımız kind parametresindeki sort ifadesinin algoritmik olmasıdır. Büyük veriler ile çalışırken anlamlı\n",
    "#olur, göstermek için yazdım.\n",
    "\n",
    "print (\"Merge Sort\\n\", np.sort(filter_array, axis = 0, kind = 'mergesort')) "
   ]
  },
  {
   "cell_type": "code",
   "execution_count": 20,
   "id": "0fb79a5d",
   "metadata": {},
   "outputs": [
    {
     "name": "stdout",
     "output_type": "stream",
     "text": [
      "\n",
      "İsimlere göre sıralanmış dizi:\n",
      " [(b'Aakash', 2009, 9. ) (b'Ajay', 2008, 8.7) (b'Hrithik', 2009, 8.5)\n",
      " (b'Pankaj', 2008, 7.9)]\n",
      "Mezuniyet yılına ve not ortalamasına göre sıralanmış dizi:\n",
      " [(b'Pankaj', 2008, 7.9) (b'Ajay', 2008, 8.7) (b'Hrithik', 2009, 8.5)\n",
      " (b'Aakash', 2009, 9. )]\n"
     ]
    }
   ],
   "source": [
    "#İçinde birden fazla tipi olan arraylerin sıralanması.\n",
    "\n",
    "\n",
    "# Veri tipleri için takma adları belirleme\n",
    "dtypes = [('name', 'S10'), ('grad_year', int), ('cgpa', float)]\n",
    "\n",
    "# Dizide bulunacak değerler\n",
    "values = [('Hrithik', 2009, 8.5), ('Ajay', 2008, 8.7),\n",
    "          ('Pankaj', 2008, 7.9), ('Aakash', 2009, 9.0)]\n",
    "\n",
    "# Yapılandırılmış bir dizi oluşturma\n",
    "veritipleri_array = np.array(values, dtype=dtypes)\n",
    "\n",
    "# İsimlere göre sıralanmış dizi\n",
    "print(\"\\nİsimlere göre sıralanmış dizi:\\n\",\n",
    "      np.sort(veritipleri_array, order='name'))\n",
    "\n",
    "# Mezuniyet yılına ve ardından not ortalamasına göre sıralanmış dizi\n",
    "print(\"Mezuniyet yılına ve not ortalamasına göre sıralanmış dizi:\\n\",\n",
    "      np.sort(veritipleri_array, order=['grad_year', 'cgpa']))\n"
   ]
  },
  {
   "cell_type": "code",
   "execution_count": 21,
   "id": "db0ed405",
   "metadata": {},
   "outputs": [
    {
     "name": "stdout",
     "output_type": "stream",
     "text": [
      "Array = [1, 2, 2, 3, 3, 3, 4, 5, 6, 6]\n",
      "sol taraftaki indeks = 3\n",
      "sağ taraftaki indeks = 6\n"
     ]
    }
   ],
   "source": [
    "filter_array2 = [1, 2, 2, 3, 3, 3, 4, 5, 6, 6] \n",
    "print(\"Array = {}\".format(filter_array2)) \n",
    "\n",
    "# Sol taraftaki 3'ün indeksini bulma\n",
    "print(\"sol taraftaki indeks = {}\".format(np.searchsorted(filter_array2, 3, side=\"left\"))) \n",
    "\n",
    "# Sağ taraftaki 3'ün en sağ indeksini bulma \n",
    "print(\"sağ taraftaki indeks = {}\".format(np.searchsorted(filter_array2, 3, side=\"right\")))\n"
   ]
  },
  {
   "cell_type": "code",
   "execution_count": 22,
   "id": "faf6e03c",
   "metadata": {},
   "outputs": [
    {
     "name": "stdout",
     "output_type": "stream",
     "text": [
      "arr = [9 3 1 7 4 3 6]\n",
      "i = (array([2]),)\n"
     ]
    }
   ],
   "source": [
    "filter_array3 = np.array([9, 3, 1, 7, 4, 3, 6])\n",
    "\n",
    "print(\"arr = {}\".format(filter_array3)) \n",
    "  \n",
    "#  i aranan degerin nerede olduguna bakar \n",
    "i = np.where(filter_array3 == 1) \n",
    "print(\"i = {}\".format(i))"
   ]
  },
  {
   "cell_type": "code",
   "execution_count": 23,
   "id": "ababdd3b",
   "metadata": {},
   "outputs": [
    {
     "name": "stdout",
     "output_type": "stream",
     "text": [
      "Birim matris:\n",
      "[[1. 0. 0.]\n",
      " [0. 1. 0.]\n",
      " [0. 0. 1.]]\n",
      "Özel matris:\n",
      "[[0. 1. 0. 0. 0.]\n",
      " [0. 0. 1. 0. 0.]\n",
      " [0. 0. 0. 1. 0.]\n",
      " [0. 0. 0. 0. 1.]\n",
      " [0. 0. 0. 0. 0.]]\n"
     ]
    }
   ],
   "source": [
    "#Eye fonksiyonu, birim matris oluşturmak için kullanılır. Birim matris, köşegeni boyunca birler ve geri kalan \n",
    "#yerlerde sıfırlar içeren kare bir matristir.\n",
    "\n",
    "# 3x3 boyutlarında birim matris oluşturma\n",
    "identity_matrix = np.eye(3)\n",
    "print(\"Birim matris:\")\n",
    "print(identity_matrix)\n",
    "\n",
    "\n",
    "# 5x5 boyutlarında, köşegenin 1 birim sağında yer alanlar için 1'ler içeren özel bir matris oluşturma\n",
    "custom_matrix = np.eye(5, k=1)\n",
    "print(\"Özel matris:\")\n",
    "print(custom_matrix)\n",
    "\n"
   ]
  },
  {
   "cell_type": "markdown",
   "id": "b26bea13",
   "metadata": {},
   "source": [
    "##Dizileri birleştirme"
   ]
  },
  {
   "cell_type": "code",
   "execution_count": 24,
   "id": "a7f5881a",
   "metadata": {},
   "outputs": [
    {
     "name": "stdout",
     "output_type": "stream",
     "text": [
      "Orijinal'in kimliği: 140372430707888\n",
      "Copy'nin kimliği: 140372430707984\n",
      "Orijinal dizi: [12  4  6  8 10]\n",
      "Kopya: [ 2  4  6  8 10]\n"
     ]
    }
   ],
   "source": [
    "original_array6 = np.array([2, 4, 6, 8, 10])\n",
    "\n",
    "# Dizinin bir kopyasını oluşturma\n",
    "copy_array = original_array6.copy()\n",
    "\n",
    "# Diziler farklı kimliklere sahiptir\n",
    "print(\"Orijinal'in kimliği:\", id(original_array6))\n",
    "print(\"Copy'nin kimliği:\", id(copy_array))\n",
    "\n",
    "# Orijinal diziyi değiştirme\n",
    "# Bu, kopyayı etkilemeyecektir\n",
    "original_array6[0] = 12\n",
    "\n",
    "# Diziyi ve kopyayı yazdırma\n",
    "print(\"Orijinal dizi:\", original_array6)\n",
    "print(\"Kopya:\", copy_array)"
   ]
  },
  {
   "cell_type": "code",
   "execution_count": 25,
   "id": "469dc6c5",
   "metadata": {},
   "outputs": [
    {
     "name": "stdout",
     "output_type": "stream",
     "text": [
      "Orijinal Dizi :  [1 8 3 3 5]\n",
      "Eleman eklendikten sonraki Dizi :  [1 8 3 3 5 7]\n"
     ]
    }
   ],
   "source": [
    "#Diziye eleman ekleme\n",
    "\n",
    "original_array7 = np.array([1, 8, 3, 3, 5])\n",
    "print('Orijinal Dizi : ', original_array7)\n",
    "\n",
    "# Diziye bir eleman eklemek için np.append() fonksiyonu kullanma\n",
    "original_array7 = np.append(original_array7, [7])\n",
    "print('Eleman eklendikten sonraki Dizi : ', original_array7)"
   ]
  },
  {
   "cell_type": "code",
   "execution_count": 26,
   "id": "332e1f6b",
   "metadata": {},
   "outputs": [
    {
     "name": "stdout",
     "output_type": "stream",
     "text": [
      "Birinci array:  [1 2 3]\n",
      "İkinci array :  [4 5 6]\n",
      "Üçüncü float array :  [4. 5.]\n",
      "Birleşik array :  [1 2 3 4 5 6]\n",
      "[1 2 3 4 5 6]\n"
     ]
    }
   ],
   "source": [
    "#Array birleştirme append()\n",
    "\n",
    "\n",
    "ekleme_array1 = np.array([1, 2, 3])\n",
    "print('Birinci array: ', ekleme_array1)\n",
    " \n",
    "ekleme_array2 = np.array([4, 5, 6])\n",
    "print('İkinci array : ', ekleme_array2)\n",
    "\n",
    "ekleme_array3 = np.array([4.0, 5.0])\n",
    "print('Üçüncü float array : ', ekleme_array3)\n",
    "\n",
    " \n",
    "# Arrayleri birleştirelim\n",
    "birlesik_array = np.append(ekleme_array1, ekleme_array2)\n",
    "print('Birleşik array : ', birlesik_array)\n",
    "\n",
    "\n",
    "# Float cinsinden birlestirme\n",
    "birlesik_array_float = np.append(ekleme_array1, ekleme_array2)\n",
    "\n",
    "# Birleştirilmiş diziyi ekrana yazdırma\n",
    "print(birlesik_array_float )\n"
   ]
  },
  {
   "cell_type": "code",
   "execution_count": 27,
   "id": "da537d2c",
   "metadata": {},
   "outputs": [
    {
     "name": "stdout",
     "output_type": "stream",
     "text": [
      "[1 2 3 4 5 6]\n"
     ]
    }
   ],
   "source": [
    "##Append ve concatenate farkı nedir?##\n",
    "\n",
    "#np.concatenate() fonksiyonu, dizilerin boyutlarını genişletmek için kullanılırken, np.append() fonksiyonu tek bir \n",
    "#boyutlu dizileri genişletmek için kullanılır. np.concatenate() ile birden fazla boyutlu dizileri birleştirebilirsiniz,\n",
    "#ancak np.append() fonksiyonu sadece tek boyutlu diziler üzerinde çalışır.\n",
    "\n",
    "#!Daha büyük veri setleri için concatenate kullanımı daha efektiftir !\n",
    "\n",
    "\n",
    "#Yukarıdaki ekleme arraylerini kullanalım\n",
    "\n",
    "# diziler birleştirilir\n",
    "\n",
    "# axis=0 parametresi, birleştirme işleminin satırlar boyunca yapılmasını sağlar\n",
    "birlesik_array2 = np.concatenate((ekleme_array1, ekleme_array2), axis=0)\n",
    "\n",
    "# Birleştirilmiş diziyi ekrana yazdırma\n",
    "print(birlesik_array2)\n"
   ]
  },
  {
   "cell_type": "code",
   "execution_count": 28,
   "id": "98f2c54e",
   "metadata": {},
   "outputs": [
    {
     "name": "stdout",
     "output_type": "stream",
     "text": [
      "Orijinal Array : \n",
      "[[ 0  1  2]\n",
      " [ 3  4  5]\n",
      " [ 6  7  8]\n",
      " [ 9 10 11]]\n",
      " Yer Değiştirdikten Sonra :\n",
      "[[ 1  0  2]\n",
      " [ 4  3  5]\n",
      " [ 7  6  8]\n",
      " [10  9 11]]\n"
     ]
    }
   ],
   "source": [
    "# NumPy dizisindeki sütunları yer değiştirmek\n",
    "\n",
    "orijinal_array8 = np.arange(12).reshape(4, 3)\n",
    "\n",
    "print(\"Orijinal Array : \")\n",
    "print(orijinal_array8)\n",
    "\n",
    "# Yer değiştirmek için bir fonksiyon oluşturma\n",
    "def Swap(arr, baslangic_indeksi, son_indeksi):\n",
    "    arr[:, [baslangic_indeksi, son_indeksi]] = arr[:, [son_indeksi, baslangic_indeksi]]\n",
    "\n",
    "# Fonksiyonu çağırma ve parametrelerle birlikte kullanma\n",
    "Swap(orijinal_array8, 0, 1)\n",
    "\n",
    "print(\" Yer Değiştirdikten Sonra :\")\n",
    "print(orijinal_array8)\n"
   ]
  },
  {
   "cell_type": "code",
   "execution_count": 29,
   "id": "a0a1b5b6",
   "metadata": {},
   "outputs": [
    {
     "name": "stdout",
     "output_type": "stream",
     "text": [
      "1.Dizi:\n",
      " [1 2 3]\n",
      "2.Dizi:\n",
      " [4 5 6]\n",
      "Yatay olarak birleştirilmiş dizi:\n",
      " [1 2 3 4 5 6]\n",
      "Dikey olarak birleştirilmiş dizi:\n",
      "  [[1 2 3]\n",
      " [4 5 6]]\n"
     ]
    }
   ],
   "source": [
    "#Diziyi yatay olarak birleştirme\n",
    "#Concatenate fonksiyonun axis degeri ile de aynı islem yapılabilir. Bilmeniz acısından ekledim.\n",
    "\n",
    "orijinal_array9 = np.array([1, 2, 3])\n",
    "print(\"1.Dizi:\\n\", orijinal_array9)\n",
    "\n",
    "orijinal_array10 = np.array([4, 5, 6])\n",
    "print(\"2.Dizi:\\n\", orijinal_array10)\n",
    "\n",
    "# İki diziyi yatay olarak birleştirme\n",
    "yatay_array = np.hstack((orijinal_array9, orijinal_array10))\n",
    "print(\"Yatay olarak birleştirilmiş dizi:\\n\", yatay_array)\n",
    "\n",
    "\n",
    "#VStack\n",
    "  \n",
    "dikey_array = np.vstack((orijinal_array9, orijinal_array10)) \n",
    "print (\"Dikey olarak birleştirilmiş dizi:\\n \", dikey_array) \n"
   ]
  },
  {
   "cell_type": "code",
   "execution_count": 30,
   "id": "741d2400",
   "metadata": {},
   "outputs": [
    {
     "name": "stdout",
     "output_type": "stream",
     "text": [
      "[[1 4]\n",
      " [2 5]\n",
      " [3 6]]\n"
     ]
    }
   ],
   "source": [
    "##Stack ve concatenate farkı nedir ?#\n",
    "\n",
    "#stack() dizileri yeni bir boyuta yerleştirirken, concatenate() fonksiyonu sadece belirtilen eksen boyunca birleştirir. \n",
    "#yeni bir boyut istenirse ->stack , #boyut aynı ise ->concatenate\n",
    "\n",
    "\n",
    "# Dizileri yatay olarak birleştirme, \n",
    "stack_array = np.stack((orijinal_array9, orijinal_array10), axis=1) \n",
    "print(stack_array)\n"
   ]
  },
  {
   "cell_type": "code",
   "execution_count": 31,
   "id": "f5133f7c",
   "metadata": {},
   "outputs": [
    {
     "name": "stdout",
     "output_type": "stream",
     "text": [
      "[[1 1 2 2 2]\n",
      " [1 1 2 2 2]\n",
      " [3 3 4 4 4]\n",
      " [3 3 4 4 4]\n",
      " [3 3 4 4 4]]\n"
     ]
    }
   ],
   "source": [
    "# block ile farklı boyutlardaki diziler birleştirilir\n",
    "\n",
    "\n",
    "block_array1 = np.array([[1, 1], [1, 1]]) \n",
    "block_array2 = np.array([[2, 2, 2], [2, 2, 2]]) \n",
    "block_array3 = np.array([[3, 3], [3, 3], [3, 3]]) \n",
    "block_array4 = np.array([[4, 4, 4], [4, 4, 4], [4, 4, 4]]) \n",
    "\n",
    "# np.block() fonksiyonunu kullanarak dizileri birleştirme\n",
    "block_birlestirme = np.block([ \n",
    "    [block_array1, block_array2], \n",
    "    [block_array3, block_array4] \n",
    "]) \n",
    "\n",
    "# Birleştirilmiş diziyi ekrana yazdırma\n",
    "print(block_birlestirme)\n"
   ]
  },
  {
   "cell_type": "code",
   "execution_count": 32,
   "id": "8c46781c",
   "metadata": {},
   "outputs": [
    {
     "name": "stdout",
     "output_type": "stream",
     "text": [
      "1.Dizi:\n",
      " [1 2 3]\n",
      "2.Dizi:\n",
      " [4 5 6]\n",
      "Birlestirilmis dizi:\n",
      " [[[1 4]\n",
      "  [2 5]\n",
      "  [3 6]]]\n"
     ]
    }
   ],
   "source": [
    "#dstack ile birlestirme\n",
    "#dizileri derinlik boyutunda birleştirilir.\n",
    "\n",
    "print(\"1.Dizi:\\n\", orijinal_array9)\n",
    "print(\"2.Dizi:\\n\", orijinal_array10)\n",
    "\n",
    "\n",
    "print(\"Birlestirilmis dizi:\\n\",np.dstack((orijinal_array9, orijinal_array10))) "
   ]
  },
  {
   "cell_type": "markdown",
   "id": "c61aac7b",
   "metadata": {},
   "source": [
    "##Dizileri bölme / parçalama yöntemleri"
   ]
  },
  {
   "cell_type": "code",
   "execution_count": 33,
   "id": "4e61d976",
   "metadata": {},
   "outputs": [
    {
     "name": "stdout",
     "output_type": "stream",
     "text": [
      "Array: [0 1 2 3 4 5]\n",
      "\n",
      "Split Array: [array([0, 1, 2]), array([3, 4, 5])]\n"
     ]
    }
   ],
   "source": [
    "orijinal_array11 = np.arange(6)\n",
    " \n",
    "# arrayı x parcaya boler, x =2\n",
    "split_array = np.split(orijinal_array11, 2)\n",
    " \n",
    "print(\"Array:\",orijinal_array11 )\n",
    "print(\"\\nSplit Array:\",split_array)\n"
   ]
  },
  {
   "cell_type": "code",
   "execution_count": 34,
   "id": "94b047aa",
   "metadata": {},
   "outputs": [
    {
     "name": "stdout",
     "output_type": "stream",
     "text": [
      "V Split Array: [array([[1, 2, 3],\n",
      "       [4, 5, 6]]), array([[ 7,  8,  9],\n",
      "       [10, 11, 12]])]\n"
     ]
    }
   ],
   "source": [
    "orijinal_array12 = np.array([[1, 2, 3],\n",
    "                    [4, 5, 6],\n",
    "                    [7, 8, 9],\n",
    "                    [10, 11, 12]])\n",
    " \n",
    "# axis=0 boyunca 2 alt diziye dikey bölme\n",
    "vsplit_array = np.vsplit(orijinal_array12, 2)\n",
    " \n",
    "\n",
    "print(\"V Split Array:\", vsplit_array)\n"
   ]
  },
  {
   "cell_type": "code",
   "execution_count": 35,
   "id": "f65c746d",
   "metadata": {},
   "outputs": [
    {
     "name": "stdout",
     "output_type": "stream",
     "text": [
      "D Split Array: [array([[[ 0,  1],\n",
      "        [ 4,  5],\n",
      "        [ 8,  9]],\n",
      "\n",
      "       [[12, 13],\n",
      "        [16, 17],\n",
      "        [20, 21]]]), array([[[ 2,  3],\n",
      "        [ 6,  7],\n",
      "        [10, 11]],\n",
      "\n",
      "       [[14, 15],\n",
      "        [18, 19],\n",
      "        [22, 23]]])]\n"
     ]
    }
   ],
   "source": [
    "# Orijinal bir 3D NumPy dizisi oluşturma\n",
    "orijinal_array13 = np.arange(24).reshape((2, 3, 4))\n",
    " \n",
    "# axis=2 boyunca (üçüncü eksende) 2 alt diziye bölmek\n",
    "dsplit_array = np.dsplit(orijinal_array13, 2)\n",
    " \n",
    "\n",
    "print(\"D Split Array:\",dsplit_array)"
   ]
  },
  {
   "cell_type": "code",
   "execution_count": 36,
   "id": "15fc51ee",
   "metadata": {},
   "outputs": [
    {
     "name": "stdout",
     "output_type": "stream",
     "text": [
      "Union Array: : [10 20 30 40 60 80]\n"
     ]
    }
   ],
   "source": [
    "#Union Array\n",
    "\n",
    "#İki diziyi tekil şekilde birleştirir örn: 2 dizide de 20 varsa bunu bir kez yazar\n",
    "\n",
    "orijinal_array14 = np.array([10, 20, 30, 40]) \n",
    "\n",
    "orijinal_array15 = np.array([20, 40, 60, 80]) \n",
    "\n",
    "  \n",
    "# İki dizinin birleşimini hesaplama ve ekrana yazdırma\n",
    "print(\"Union Array: :\", np.union1d(orijinal_array14, orijinal_array15))"
   ]
  },
  {
   "cell_type": "code",
   "execution_count": 37,
   "id": "47164af0",
   "metadata": {},
   "outputs": [
    {
     "name": "stdout",
     "output_type": "stream",
     "text": [
      "Unique Rows:\n",
      "[11 12 13 16]\n"
     ]
    }
   ],
   "source": [
    "#UniqueRows : Benzersiz değerleri ayırır\n",
    "\n",
    "orijinal_array16 = np.array([[11, 11, 12, 11],\n",
    "                             [13, 11, 12, 11],\n",
    "                             [16, 11, 12, 11],\n",
    "                             [11, 11, 12, 11]])\n",
    " \n",
    " \n",
    "uniqueRows = np.unique(orijinal_array16)\n",
    "                        \n",
    "\n",
    "\n",
    "print('Unique Rows:',uniqueRows, sep = '\\n')"
   ]
  },
  {
   "cell_type": "code",
   "execution_count": 38,
   "id": "bcac1f50",
   "metadata": {},
   "outputs": [
    {
     "name": "stdout",
     "output_type": "stream",
     "text": [
      "[ 0  0  0  0  1  5  7  0  6  2  9  0 10]\n"
     ]
    }
   ],
   "source": [
    "#Bir dizinin sonundaki gereksiz sıfırları silerek diziyi döndürür\n",
    "#Örn:zaman serilerinde baştaki - sondaki sıfırlar genelde önemsiz oldugu icin silinerek veriye daha rahat odaklanılır\n",
    "\n",
    "orijinal_array17 = np.array((0, 0, 0, 0, 1, 5, 7, 0, 6, 2, 9, 0, 10, 0, 0)) \n",
    "  \n",
    "\n",
    "# sonundaki gereksiz sıfırları içermeyen bir dizi döndürür\n",
    "trim_array = np.trim_zeros(orijinal_array17, 'b') \n",
    "print(trim_array)"
   ]
  },
  {
   "cell_type": "markdown",
   "id": "00bff253",
   "metadata": {},
   "source": [
    "##Determinant Hesaplama"
   ]
  },
  {
   "cell_type": "code",
   "execution_count": 39,
   "id": "88bfc723",
   "metadata": {},
   "outputs": [
    {
     "name": "stdout",
     "output_type": "stream",
     "text": [
      "Matrix Determinantı: 137180.0000000001\n"
     ]
    }
   ],
   "source": [
    "orijinal_array18 = np.array([[55, 25, 15], \n",
    "                    [30, 44, 2], \n",
    "                    [11, 45, 77]]) \n",
    "\n",
    "\n",
    "\n",
    "# Matrisin determinantını hesaplama\n",
    "det_array = np.linalg.det(orijinal_array18) \n",
    "\n",
    "print(\"Matrix Determinantı:\", det_array) \n",
    "\n"
   ]
  },
  {
   "cell_type": "code",
   "execution_count": null,
   "id": "61647d45",
   "metadata": {},
   "outputs": [],
   "source": []
  }
 ],
 "metadata": {
  "kernelspec": {
   "display_name": "Python 3 (ipykernel)",
   "language": "python",
   "name": "python3"
  },
  "language_info": {
   "codemirror_mode": {
    "name": "ipython",
    "version": 3
   },
   "file_extension": ".py",
   "mimetype": "text/x-python",
   "name": "python",
   "nbconvert_exporter": "python",
   "pygments_lexer": "ipython3",
   "version": "3.10.9"
  }
 },
 "nbformat": 4,
 "nbformat_minor": 5
}
